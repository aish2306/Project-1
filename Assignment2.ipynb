{
  "nbformat": 4,
  "nbformat_minor": 0,
  "metadata": {
    "colab": {
      "name": "Assignment2.ipynb",
      "version": "0.3.2",
      "provenance": [],
      "collapsed_sections": []
    },
    "kernelspec": {
      "name": "python3",
      "display_name": "Python 3"
    },
    "accelerator": "GPU"
  },
  "cells": [
    {
      "cell_type": "code",
      "metadata": {
        "id": "QQ6diEtCWUXO",
        "colab_type": "code",
        "outputId": "80613522-bcc1-4fba-8a1d-22295614436c",
        "colab": {
          "base_uri": "https://localhost:8080/",
          "height": 34
        }
      },
      "source": [
        "# https://keras.io/\n",
        "!pip install -q keras\n",
        "import keras\n"
      ],
      "execution_count": 0,
      "outputs": [
        {
          "output_type": "stream",
          "text": [
            "Using TensorFlow backend.\n"
          ],
          "name": "stderr"
        }
      ]
    },
    {
      "cell_type": "markdown",
      "metadata": {
        "id": "KV4rVVyLdChs",
        "colab_type": "text"
      },
      "source": [
        "#Install Keras on a Jupyter Notebook using TensorFlow as a backend."
      ]
    },
    {
      "cell_type": "code",
      "metadata": {
        "id": "K67sVWUaWV-h",
        "colab_type": "code",
        "colab": {}
      },
      "source": [
        "import numpy as np\n",
        "\n",
        "from keras.models import Sequential\n",
        "from keras.layers import Flatten\n",
        "from keras.layers import Convolution2D\n",
        "from keras.utils import np_utils\n",
        "\n",
        "from keras.datasets import mnist"
      ],
      "execution_count": 0,
      "outputs": []
    },
    {
      "cell_type": "markdown",
      "metadata": {
        "id": "bd9xalFFdD8v",
        "colab_type": "text"
      },
      "source": [
        "##Import in python is similar to #include header_file in C/C++.\n",
        "## Syntax:import module_name\n",
        "##When import is used, it searches for the module initially in the local scope by calling __import__() function. The value returned by the function are then reflected in the output of the initial code.\n",
        "## We also import a member from a module as:\n",
        "##from module import member\n",
        "##Before running any code,we just import all the necessary modules so that we can use the functions and methods included in them.\n"
      ]
    },
    {
      "cell_type": "code",
      "metadata": {
        "id": "cvC8zYA3XYBd",
        "colab_type": "code",
        "outputId": "707baa23-4112-4fb6-ea6b-cdeea4212935",
        "colab": {
          "base_uri": "https://localhost:8080/",
          "height": 52
        }
      },
      "source": [
        "(X_train, y_train), (X_test, y_test) = mnist.load_data()\n"
      ],
      "execution_count": 0,
      "outputs": [
        {
          "output_type": "stream",
          "text": [
            "Downloading data from https://s3.amazonaws.com/img-datasets/mnist.npz\n",
            "11493376/11490434 [==============================] - 0s 0us/step\n"
          ],
          "name": "stdout"
        }
      ]
    },
    {
      "cell_type": "markdown",
      "metadata": {
        "id": "HdFNNZGfdEv2",
        "colab_type": "text"
      },
      "source": [
        "##Dataset of 60,000 28x28 grayscale images of the 10 digits, along with a test set of 10,000 images. \n",
        "   ## x_train, x_test: uint8 array of grayscale image data with shape (num_samples, 28, 28).\n",
        "   ## y_train, y_test: uint8 array of digit labels (integers in range 0-9) with shape (num_samples,).\n"
      ]
    },
    {
      "cell_type": "code",
      "metadata": {
        "id": "MbrqqZvSXcBL",
        "colab_type": "code",
        "outputId": "09e9f316-c6bd-4af2-a619-7dee9c26c70a",
        "colab": {
          "base_uri": "https://localhost:8080/",
          "height": 304
        }
      },
      "source": [
        "print (X_train.shape)\n",
        "from matplotlib import pyplot as plt\n",
        "%matplotlib inline\n",
        "plt.imshow(X_train[0])"
      ],
      "execution_count": 0,
      "outputs": [
        {
          "output_type": "stream",
          "text": [
            "(60000, 28, 28)\n"
          ],
          "name": "stdout"
        },
        {
          "output_type": "execute_result",
          "data": {
            "text/plain": [
              "<matplotlib.image.AxesImage at 0x7fc164f586a0>"
            ]
          },
          "metadata": {
            "tags": []
          },
          "execution_count": 4
        },
        {
          "output_type": "display_data",
          "data": {
            "image/png": "[encoded data removed]",
            "text/plain": [
              "<Figure size 432x288 with 1 Axes>"
            ]
          },
          "metadata": {
            "tags": []
          }
        }
      ]
    },
    {
      "cell_type": "markdown",
      "metadata": {
        "id": "Wz7Hn9k8dGGr",
        "colab_type": "text"
      },
      "source": [
        "## X_train.shape returns the dataset of 60,000 28* 28 values of width and height of matrix\n",
        "## plt.imshow(X_train[0]) display the first image of the dataset on a 2D regular raster."
      ]
    },
    {
      "cell_type": "code",
      "metadata": {
        "id": "xa-gWbgxXiId",
        "colab_type": "code",
        "colab": {}
      },
      "source": [
        "X_train = X_train.reshape(X_train.shape[0], 28, 28,1)\n",
        "X_test = X_test.reshape(X_test.shape[0], 28, 28,1)"
      ],
      "execution_count": 0,
      "outputs": []
    },
    {
      "cell_type": "markdown",
      "metadata": {
        "id": "s203k5e8dHQO",
        "colab_type": "text"
      },
      "source": [
        "## Our MNIST images only have a depth of 1, but we must explicitly declare that.\n",
        "\n",
        "## In other words, we want to transform our dataset from having shape (n, width, height) to (n,  width, height,depth)."
      ]
    },
    {
      "cell_type": "code",
      "metadata": {
        "id": "9KoHcg7eXmq-",
        "colab_type": "code",
        "colab": {}
      },
      "source": [
        "X_train = X_train.astype('float32')\n",
        "X_test = X_test.astype('float32')\n",
        "X_train /= 255\n",
        "X_test /= 255"
      ],
      "execution_count": 0,
      "outputs": []
    },
    {
      "cell_type": "markdown",
      "metadata": {
        "id": "ElmWT2rSdH0o",
        "colab_type": "text"
      },
      "source": [
        "## This is the  final preprocessing step for the input data where we  convert our data type to float32 and normalize our data values to the range [0, 1]."
      ]
    },
    {
      "cell_type": "code",
      "metadata": {
        "id": "1ccHpD8NXp6f",
        "colab_type": "code",
        "outputId": "8afc9953-0eef-4761-da77-fbf80b549cb1",
        "colab": {
          "base_uri": "https://localhost:8080/",
          "height": 34
        }
      },
      "source": [
        "y_train[:10]"
      ],
      "execution_count": 0,
      "outputs": [
        {
          "output_type": "execute_result",
          "data": {
            "text/plain": [
              "array([5, 0, 4, 1, 9, 2, 1, 3, 1, 4], dtype=uint8)"
            ]
          },
          "metadata": {
            "tags": []
          },
          "execution_count": 7
        }
      ]
    },
    {
      "cell_type": "markdown",
      "metadata": {
        "id": "0IRjVN-xdIha",
        "colab_type": "text"
      },
      "source": [
        "## We should have 10 different classes,one for each digit,but we end up having only a 1D array."
      ]
    },
    {
      "cell_type": "code",
      "metadata": {
        "id": "frPayttnXvGy",
        "colab_type": "code",
        "colab": {}
      },
      "source": [
        "# Convert 1-dimensional class arrays to 10-dimensional class matrices\n",
        "Y_train = np_utils.to_categorical(y_train, 10)\n",
        "Y_test = np_utils.to_categorical(y_test, 10)"
      ],
      "execution_count": 0,
      "outputs": []
    },
    {
      "cell_type": "markdown",
      "metadata": {
        "id": "NvWZvQQ0dJTH",
        "colab_type": "text"
      },
      "source": [
        "## And it's a problem. The y_train and y_test data are not split into 10 distinct class labels, but rather are represented as a single array with the class values. That is why the conversion of 1D class arrays to 10D class matrices."
      ]
    },
    {
      "cell_type": "code",
      "metadata": {
        "id": "L6JCg6xsXyAW",
        "colab_type": "code",
        "outputId": "506b9d48-c769-47fd-9f21-0fa555e6bc94",
        "colab": {
          "base_uri": "https://localhost:8080/",
          "height": 191
        }
      },
      "source": [
        "Y_train[:10]"
      ],
      "execution_count": 0,
      "outputs": [
        {
          "output_type": "execute_result",
          "data": {
            "text/plain": [
              "array([[0., 0., 0., 0., 0., 1., 0., 0., 0., 0.],\n",
              "       [1., 0., 0., 0., 0., 0., 0., 0., 0., 0.],\n",
              "       [0., 0., 0., 0., 1., 0., 0., 0., 0., 0.],\n",
              "       [0., 1., 0., 0., 0., 0., 0., 0., 0., 0.],\n",
              "       [0., 0., 0., 0., 0., 0., 0., 0., 0., 1.],\n",
              "       [0., 0., 1., 0., 0., 0., 0., 0., 0., 0.],\n",
              "       [0., 1., 0., 0., 0., 0., 0., 0., 0., 0.],\n",
              "       [0., 0., 0., 1., 0., 0., 0., 0., 0., 0.],\n",
              "       [0., 1., 0., 0., 0., 0., 0., 0., 0., 0.],\n",
              "       [0., 0., 0., 0., 1., 0., 0., 0., 0., 0.]], dtype=float32)"
            ]
          },
          "metadata": {
            "tags": []
          },
          "execution_count": 17
        }
      ]
    },
    {
      "cell_type": "markdown",
      "metadata": {
        "id": "L6Vx6BmxdKm6",
        "colab_type": "text"
      },
      "source": [
        "## We are displaying what we just converted.(After the conversion)"
      ]
    },
    {
      "cell_type": "code",
      "metadata": {
        "id": "Kp1JlKPbX0e0",
        "colab_type": "code",
        "outputId": "33d77c0a-d51b-4b09-9e70-a578baf65e70",
        "colab": {
          "base_uri": "https://localhost:8080/",
          "height": 871
        }
      },
      "source": [
        "from keras.layers import Activation, MaxPooling2D\n",
        "\n",
        "model = Sequential() \n",
        "model.add(Convolution2D(32, 3, 3, activation='relu', input_shape=(28,28,1)))\n",
        "model.add(Convolution2D(64, 3, 3, activation='relu'))\n",
        "model.add(Convolution2D(128, 3, 3, activation='relu'))\n",
        "\n",
        "model.add(MaxPooling2D(pool_size=(2, 2)))\n",
        "\n",
        "model.add(Convolution2D(256, 3, 3, activation='relu'))\n",
        "model.add(Convolution2D(512, 3, 3, activation='relu'))\n",
        "model.add(Convolution2D(1024, 3, 3, activation='relu'))\n",
        "model.add(Convolution2D(2048, 3, 3, activation='relu'))\n",
        "model.add(Convolution2D(10, 3, 3, activation='relu'))\n",
        "\n",
        "model.add(Flatten())\n",
        "model.add(Activation('softmax'))\n",
        "\n",
        "model.summary()"
      ],
      "execution_count": 0,
      "outputs": [
        {
          "output_type": "stream",
          "text": [
            "WARNING:tensorflow:From /usr/local/lib/python3.6/dist-packages/tensorflow/python/framework/op_def_library.py:263: colocate_with (from tensorflow.python.framework.ops) is deprecated and will be removed in a future version.\n",
            "Instructions for updating:\n",
            "Colocations handled automatically by placer.\n"
          ],
          "name": "stdout"
        },
        {
          "output_type": "stream",
          "text": [
            "/usr/local/lib/python3.6/dist-packages/ipykernel_launcher.py:4: UserWarning: Update your `Conv2D` call to the Keras 2 API: `Conv2D(32, (3, 3), activation=\"relu\", input_shape=(28, 28, 1...)`\n",
            "  after removing the cwd from sys.path.\n",
            "/usr/local/lib/python3.6/dist-packages/ipykernel_launcher.py:5: UserWarning: Update your `Conv2D` call to the Keras 2 API: `Conv2D(64, (3, 3), activation=\"relu\")`\n",
            "  \"\"\"\n",
            "/usr/local/lib/python3.6/dist-packages/ipykernel_launcher.py:6: UserWarning: Update your `Conv2D` call to the Keras 2 API: `Conv2D(128, (3, 3), activation=\"relu\")`\n",
            "  \n",
            "/usr/local/lib/python3.6/dist-packages/ipykernel_launcher.py:10: UserWarning: Update your `Conv2D` call to the Keras 2 API: `Conv2D(256, (3, 3), activation=\"relu\")`\n",
            "  # Remove the CWD from sys.path while we load stuff.\n",
            "/usr/local/lib/python3.6/dist-packages/ipykernel_launcher.py:11: UserWarning: Update your `Conv2D` call to the Keras 2 API: `Conv2D(512, (3, 3), activation=\"relu\")`\n",
            "  # This is added back by InteractiveShellApp.init_path()\n",
            "/usr/local/lib/python3.6/dist-packages/ipykernel_launcher.py:12: UserWarning: Update your `Conv2D` call to the Keras 2 API: `Conv2D(1024, (3, 3), activation=\"relu\")`\n",
            "  if sys.path[0] == '':\n",
            "/usr/local/lib/python3.6/dist-packages/ipykernel_launcher.py:13: UserWarning: Update your `Conv2D` call to the Keras 2 API: `Conv2D(2048, (3, 3), activation=\"relu\")`\n",
            "  del sys.path[0]\n",
            "/usr/local/lib/python3.6/dist-packages/ipykernel_launcher.py:14: UserWarning: Update your `Conv2D` call to the Keras 2 API: `Conv2D(10, (3, 3), activation=\"relu\")`\n",
            "  \n"
          ],
          "name": "stderr"
        },
        {
          "output_type": "stream",
          "text": [
            "_________________________________________________________________\n",
            "Layer (type)                 Output Shape              Param #   \n",
            "=================================================================\n",
            "conv2d_1 (Conv2D)            (None, 26, 26, 32)        320       \n",
            "_________________________________________________________________\n",
            "conv2d_2 (Conv2D)            (None, 24, 24, 64)        18496     \n",
            "_________________________________________________________________\n",
            "conv2d_3 (Conv2D)            (None, 22, 22, 128)       73856     \n",
            "_________________________________________________________________\n",
            "max_pooling2d_1 (MaxPooling2 (None, 11, 11, 128)       0         \n",
            "_________________________________________________________________\n",
            "conv2d_4 (Conv2D)            (None, 9, 9, 256)         295168    \n",
            "_________________________________________________________________\n",
            "conv2d_5 (Conv2D)            (None, 7, 7, 512)         1180160   \n",
            "_________________________________________________________________\n",
            "conv2d_6 (Conv2D)            (None, 5, 5, 1024)        4719616   \n",
            "_________________________________________________________________\n",
            "conv2d_7 (Conv2D)            (None, 3, 3, 2048)        18876416  \n",
            "_________________________________________________________________\n",
            "conv2d_8 (Conv2D)            (None, 1, 1, 10)          184330    \n",
            "_________________________________________________________________\n",
            "flatten_1 (Flatten)          (None, 10)                0         \n",
            "_________________________________________________________________\n",
            "activation_1 (Activation)    (None, 10)                0         \n",
            "=================================================================\n",
            "Total params: 25,348,362\n",
            "Trainable params: 25,348,362\n",
            "Non-trainable params: 0\n",
            "_________________________________________________________________\n"
          ],
          "name": "stdout"
        }
      ]
    },
    {
      "cell_type": "markdown",
      "metadata": {
        "id": "gLzLEZ4sdLqw",
        "colab_type": "text"
      },
      "source": [
        "## We import the members required for the Layers from keras.layers\n",
        "## We start by declaring a Sequential Model Format using model=Sequential()\n",
        "## Next, we declare the input layer\n",
        "## The input shape parameter should be the shape of 1 sample. In this case, it's the same (28, 28, 1) that corresponds to  the ( width, height,depth) of each digit image.\n",
        "## The first 3 parameters  correspond to the number of convolution filters to use, the number of rows in each convolution kernel, and the number of columns in each convolution kernel, respectively.\n",
        "## We then add more layers.\n",
        "## For layer 1: \n",
        "## Receptive Field is 3* 3 \n",
        "## For layer 2:\n",
        "## Receptive Field is 5* 5\n",
        "## For layer 3:\n",
        "## Receptive Field is :7* 7\n",
        "## After Max-Pooling it becomes: 14* 14\n",
        "## Then at Layer 4, it becomes: 16* 16\n",
        "## At Layer 5, receptive field is: 18* 18\n",
        "## At Layer 6, receptive field is:20* 20\n",
        "## At layer 7, receptive field is 22* 22\n",
        "## At layer 8, receptive field is 24* 24\n",
        "## model.add(Flatten()) flattens the input. Does not affect the batch size.\n",
        "\n",
        "## model.add(Activation('softmax')) adds an Activation Function to the output\n",
        "## model.summary() prints a Summary representation of our model\n"
      ]
    },
    {
      "cell_type": "code",
      "metadata": {
        "id": "d6UUkKACYIAH",
        "colab_type": "code",
        "colab": {}
      },
      "source": [
        "model.compile(loss='categorical_crossentropy',\n",
        "             optimizer='adam',\n",
        "             metrics=['accuracy'])"
      ],
      "execution_count": 0,
      "outputs": []
    },
    {
      "cell_type": "markdown",
      "metadata": {
        "id": "EjLV9IeldM2V",
        "colab_type": "text"
      },
      "source": [
        "## Configures the model for training."
      ]
    },
    {
      "cell_type": "code",
      "metadata": {
        "id": "QcCT6ozgYLcv",
        "colab_type": "code",
        "outputId": "0f19527b-9f9b-4016-ebaf-6aaff7881565",
        "colab": {
          "base_uri": "https://localhost:8080/",
          "height": 489
        }
      },
      "source": [
        "model.fit(X_train, Y_train, batch_size=32, nb_epoch=10, verbose=1)"
      ],
      "execution_count": 0,
      "outputs": [
        {
          "output_type": "stream",
          "text": [
            "WARNING:tensorflow:From /usr/local/lib/python3.6/dist-packages/tensorflow/python/ops/math_ops.py:3066: to_int32 (from tensorflow.python.ops.math_ops) is deprecated and will be removed in a future version.\n",
            "Instructions for updating:\n",
            "Use tf.cast instead.\n"
          ],
          "name": "stdout"
        },
        {
          "output_type": "stream",
          "text": [
            "/usr/local/lib/python3.6/dist-packages/ipykernel_launcher.py:1: UserWarning: The `nb_epoch` argument in `fit` has been renamed `epochs`.\n",
            "  \"\"\"Entry point for launching an IPython kernel.\n"
          ],
          "name": "stderr"
        },
        {
          "output_type": "stream",
          "text": [
            "Epoch 1/10\n",
            "60000/60000 [==============================] - 120s 2ms/step - loss: 1.5114 - acc: 0.3728\n",
            "Epoch 2/10\n",
            "60000/60000 [==============================] - 113s 2ms/step - loss: 1.4279 - acc: 0.3933\n",
            "Epoch 3/10\n",
            "60000/60000 [==============================] - 113s 2ms/step - loss: 1.4163 - acc: 0.3945\n",
            "Epoch 4/10\n",
            "60000/60000 [==============================] - 113s 2ms/step - loss: 1.4103 - acc: 0.3955\n",
            "Epoch 5/10\n",
            "60000/60000 [==============================] - 113s 2ms/step - loss: 1.4098 - acc: 0.3956\n",
            "Epoch 6/10\n",
            "60000/60000 [==============================] - 113s 2ms/step - loss: 1.4086 - acc: 0.3950\n",
            "Epoch 7/10\n",
            "60000/60000 [==============================] - 113s 2ms/step - loss: 1.4050 - acc: 0.3956\n",
            "Epoch 8/10\n",
            "60000/60000 [==============================] - 113s 2ms/step - loss: 1.4047 - acc: 0.3960\n",
            "Epoch 9/10\n",
            "60000/60000 [==============================] - 113s 2ms/step - loss: 1.4063 - acc: 0.3955\n",
            "Epoch 10/10\n",
            "60000/60000 [==============================] - 113s 2ms/step - loss: 1.4112 - acc: 0.3942\n"
          ],
          "name": "stdout"
        },
        {
          "output_type": "execute_result",
          "data": {
            "text/plain": [
              "<keras.callbacks.History at 0x7fc161dd12e8>"
            ]
          },
          "metadata": {
            "tags": []
          },
          "execution_count": 12
        }
      ]
    },
    {
      "cell_type": "markdown",
      "metadata": {
        "id": "B4H2pbICdNlP",
        "colab_type": "text"
      },
      "source": [
        "## Trains the model for a given number of epochs .\n",
        "## Epoch is the iterations on a dataset.\n",
        "## X_train and Y_train are the Numpy arrays of Training data and Target Data respectively.\n",
        "## batch_size is Number of samples per gradient update\n"
      ]
    },
    {
      "cell_type": "code",
      "metadata": {
        "id": "rhGeZBFcYOHg",
        "colab_type": "code",
        "colab": {}
      },
      "source": [
        "score = model.evaluate(X_test, Y_test, verbose=0)"
      ],
      "execution_count": 0,
      "outputs": []
    },
    {
      "cell_type": "markdown",
      "metadata": {
        "id": "FRX3-g67dO0-",
        "colab_type": "text"
      },
      "source": [
        "## Returns the loss value & metrics values for the model in test mode.\n",
        "\n",
        "## Computation is done in batches."
      ]
    },
    {
      "cell_type": "code",
      "metadata": {
        "id": "KWsXyYC5cuXo",
        "colab_type": "code",
        "outputId": "67d35470-0f3d-4733-b721-62254d33c24d",
        "colab": {
          "base_uri": "https://localhost:8080/",
          "height": 34
        }
      },
      "source": [
        "print(score)"
      ],
      "execution_count": 0,
      "outputs": [
        {
          "output_type": "stream",
          "text": [
            "[1.416166235923767, 0.3924]\n"
          ],
          "name": "stdout"
        }
      ]
    },
    {
      "cell_type": "code",
      "metadata": {
        "id": "4OM1t8rqc27Z",
        "colab_type": "code",
        "colab": {}
      },
      "source": [
        "y_pred = model.predict(X_test)"
      ],
      "execution_count": 0,
      "outputs": []
    },
    {
      "cell_type": "markdown",
      "metadata": {
        "id": "LzDZ-Qf2dQRs",
        "colab_type": "text"
      },
      "source": [
        "## Generates output predictions for the input samples.\n"
      ]
    },
    {
      "cell_type": "code",
      "metadata": {
        "id": "KLrVpt0Sc-fM",
        "colab_type": "code",
        "outputId": "2ec5cac8-7189-49e1-d102-6abd55928330",
        "colab": {
          "base_uri": "https://localhost:8080/",
          "height": 347
        }
      },
      "source": [
        "print(y_pred[:9])\n",
        "print(y_test[:9])"
      ],
      "execution_count": 0,
      "outputs": [
        {
          "output_type": "stream",
          "text": [
            "[[1.0000000e-01 1.0000000e-01 1.0000000e-01 1.0000000e-01 1.0000000e-01\n",
            "  1.0000000e-01 1.0000000e-01 1.0000000e-01 1.0000000e-01 1.0000000e-01]\n",
            " [1.0000000e-01 1.0000000e-01 1.0000000e-01 1.0000000e-01 1.0000000e-01\n",
            "  1.0000000e-01 1.0000000e-01 1.0000000e-01 1.0000000e-01 1.0000000e-01]\n",
            " [1.0182779e-10 1.0000000e+00 1.0182779e-10 1.0182779e-10 1.0182779e-10\n",
            "  1.0182779e-10 1.0182779e-10 1.0182779e-10 1.0182779e-10 1.0182779e-10]\n",
            " [9.9999511e-01 5.4561173e-07 5.4561173e-07 5.4561173e-07 5.4561173e-07\n",
            "  5.4561173e-07 5.4561173e-07 5.4561173e-07 5.4561173e-07 5.4561173e-07]\n",
            " [5.2106804e-16 5.2106804e-16 5.2106804e-16 5.2106804e-16 1.0000000e+00\n",
            "  5.2106804e-16 5.2106804e-16 5.2106804e-16 5.2106804e-16 5.2106804e-16]\n",
            " [2.2820176e-11 1.0000000e+00 2.2820176e-11 2.2820176e-11 2.2820176e-11\n",
            "  2.2820176e-11 2.2820176e-11 2.2820176e-11 2.2820176e-11 2.2820176e-11]\n",
            " [3.8108966e-10 3.8108966e-10 3.8108966e-10 3.8108966e-10 1.0000000e+00\n",
            "  3.8108966e-10 3.8108966e-10 3.8108966e-10 3.8108966e-10 3.8108966e-10]\n",
            " [1.0000000e-01 1.0000000e-01 1.0000000e-01 1.0000000e-01 1.0000000e-01\n",
            "  1.0000000e-01 1.0000000e-01 1.0000000e-01 1.0000000e-01 1.0000000e-01]\n",
            " [7.5149111e-04 7.5149111e-04 7.5149111e-04 7.5149111e-04 7.5149111e-04\n",
            "  9.9323648e-01 7.5149111e-04 7.5149111e-04 7.5149111e-04 7.5149111e-04]]\n",
            "[7 2 1 0 4 1 4 9 5]\n"
          ],
          "name": "stdout"
        }
      ]
    },
    {
      "cell_type": "markdown",
      "metadata": {
        "id": "3hjuiZSv2YDg",
        "colab_type": "text"
      },
      "source": [
        "## Print the values."
      ]
    },
    {
      "cell_type": "markdown",
      "metadata": {
        "id": "fGVVWMaB2aiX",
        "colab_type": "text"
      },
      "source": [
        "## What's wrong with the network?\n",
        "## Batch Normalisation could be used.\n",
        "## Padding should be added to not lose out on information.\n",
        "## To prevent the network from Overfitting, Dropout can be added with Dense layers.\n",
        "## This will also reduce the number of parameters overall"
      ]
    }
  ]
}