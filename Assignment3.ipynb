{
  "nbformat": 4,
  "nbformat_minor": 0,
  "metadata": {
    "colab": {
      "name": "Assignment3.ipynb",
      "version": "0.3.2",
      "provenance": []
    },
    "kernelspec": {
      "name": "python3",
      "display_name": "Python 3"
    },
    "accelerator": "GPU"
  },
  "cells": [
    {
      "cell_type": "code",
      "metadata": {
        "id": "iZykK4_uwC7-",
        "colab_type": "code",
        "outputId": "52e4cfb9-dd40-4517-eee4-e3415fcecc53",
        "colab": {
          "base_uri": "https://localhost:8080/",
          "height": 34
        }
      },
      "source": [
        "# https://keras.io/\n",
        "!pip install -q keras\n",
        "\n",
        "import keras\n"
      ],
      "execution_count": 1,
      "outputs": [
        {
          "output_type": "stream",
          "text": [
            "Using TensorFlow backend.\n"
          ],
          "name": "stderr"
        }
      ]
    },
    {
      "cell_type": "markdown",
      "metadata": {
        "id": "a6DrpboWqMO1",
        "colab_type": "text"
      },
      "source": [
        "#Install Keras on a Jupyter Notebook using TensorFlow as a backend."
      ]
    },
    {
      "cell_type": "code",
      "metadata": {
        "id": "_MGTMswBw5hk",
        "colab_type": "code",
        "colab": {}
      },
      "source": [
        "import numpy as np\n",
        "\n",
        "from keras.models import Sequential\n",
        "from keras.layers import Flatten\n",
        "from keras.layers import Convolution2D\n",
        "from keras.utils import np_utils\n",
        "\n",
        "\n",
        "from keras.datasets import mnist\n",
        "from keras.layers.normalization import BatchNormalization"
      ],
      "execution_count": 0,
      "outputs": []
    },
    {
      "cell_type": "markdown",
      "metadata": {
        "id": "2CZkiYFoqZR-",
        "colab_type": "text"
      },
      "source": [
        "##Import in python is similar to #include header_file in C/C++.\n",
        "## Syntax:import module_name\n",
        "##When import is used, it searches for the module initially in the local scope by calling __import__() function. The value returned by the function are then reflected in the output of the initial code.\n",
        "## We also import a member from a module as:\n",
        "##from module import member\n",
        "##Before running any code,we just import all the necessary modules so that we can use the functions and methods included in them."
      ]
    },
    {
      "cell_type": "code",
      "metadata": {
        "id": "t9V7-4O0w9zv",
        "colab_type": "code",
        "outputId": "c244f4bc-8fef-496d-fd68-8a6dd4f3f7c9",
        "colab": {
          "base_uri": "https://localhost:8080/",
          "height": 52
        }
      },
      "source": [
        "(X_train, y_train), (X_test, y_test) = mnist.load_data()"
      ],
      "execution_count": 3,
      "outputs": [
        {
          "output_type": "stream",
          "text": [
            "Downloading data from https://s3.amazonaws.com/img-datasets/mnist.npz\n",
            "11493376/11490434 [==============================] - 2s 0us/step\n"
          ],
          "name": "stdout"
        }
      ]
    },
    {
      "cell_type": "markdown",
      "metadata": {
        "id": "KQrE5fseqf5J",
        "colab_type": "text"
      },
      "source": [
        "##Dataset of 60,000 28x28 grayscale images of the 10 digits, along with a test set of 10,000 images. \n",
        "   ## x_train, x_test: uint8 array of grayscale image data with shape (num_samples, 28, 28).\n",
        "   ## y_train, y_test: uint8 array of digit labels (integers in range 0-9) with shape (num_samples,)."
      ]
    },
    {
      "cell_type": "code",
      "metadata": {
        "id": "-c8S3Ry0xBBf",
        "colab_type": "code",
        "outputId": "f8bad8e4-2914-41ad-c0d6-49c73ae22144",
        "colab": {
          "base_uri": "https://localhost:8080/",
          "height": 304
        }
      },
      "source": [
        "print (X_train.shape)\n",
        "from matplotlib import pyplot as plt\n",
        "%matplotlib inline\n",
        "plt.imshow(X_train[0])"
      ],
      "execution_count": 4,
      "outputs": [
        {
          "output_type": "stream",
          "text": [
            "(60000, 28, 28)\n"
          ],
          "name": "stdout"
        },
        {
          "output_type": "execute_result",
          "data": {
            "text/plain": [
              "<matplotlib.image.AxesImage at 0x7f6e74fb3080>"
            ]
          },
          "metadata": {
            "tags": []
          },
          "execution_count": 4
        },
        {
          "output_type": "display_data",
          "data": {
            "image/png": "[encoded data removed]",
            "text/plain": [
              "<Figure size 432x288 with 1 Axes>"
            ]
          },
          "metadata": {
            "tags": []
          }
        }
      ]
    },
    {
      "cell_type": "markdown",
      "metadata": {
        "id": "uVERlJnfqlpk",
        "colab_type": "text"
      },
      "source": [
        "## X_train.shape returns the dataset of 60,000 28* 28 values of width and height of matrix\n",
        "## plt.imshow(X_train[0]) display the first image of the dataset on a 2D regular raster."
      ]
    },
    {
      "cell_type": "code",
      "metadata": {
        "id": "sjkeyTSLxEzC",
        "colab_type": "code",
        "colab": {}
      },
      "source": [
        "X_train = X_train.reshape(X_train.shape[0], 28, 28,1)\n",
        "X_test = X_test.reshape(X_test.shape[0], 28, 28,1)"
      ],
      "execution_count": 0,
      "outputs": []
    },
    {
      "cell_type": "markdown",
      "metadata": {
        "id": "DJTOX7Wkq7FP",
        "colab_type": "text"
      },
      "source": [
        "## Our MNIST images only have a depth of 1, but we must explicitly declare that.\n",
        "\n",
        "## In other words, we want to transform our dataset from having shape (n, width, height) to (n,  width, height,depth)."
      ]
    },
    {
      "cell_type": "code",
      "metadata": {
        "id": "NI9rT2XoxI9A",
        "colab_type": "code",
        "colab": {}
      },
      "source": [
        "X_train = X_train.astype('float32')\n",
        "X_test = X_test.astype('float32')\n",
        "X_train /= 255\n",
        "X_test /= 255"
      ],
      "execution_count": 0,
      "outputs": []
    },
    {
      "cell_type": "markdown",
      "metadata": {
        "id": "6IcD8t9kq8eB",
        "colab_type": "text"
      },
      "source": [
        "## This is the  final preprocessing step for the input data where we  convert our data type to float32 and normalize our data values to the range [0, 1]."
      ]
    },
    {
      "cell_type": "code",
      "metadata": {
        "id": "YkFSRRLHxMMM",
        "colab_type": "code",
        "outputId": "a781ae12-1fb9-4194-80c8-fe7e2c34f38b",
        "colab": {
          "base_uri": "https://localhost:8080/",
          "height": 34
        }
      },
      "source": [
        "y_train[:10]"
      ],
      "execution_count": 7,
      "outputs": [
        {
          "output_type": "execute_result",
          "data": {
            "text/plain": [
              "array([5, 0, 4, 1, 9, 2, 1, 3, 1, 4], dtype=uint8)"
            ]
          },
          "metadata": {
            "tags": []
          },
          "execution_count": 7
        }
      ]
    },
    {
      "cell_type": "markdown",
      "metadata": {
        "id": "AJRNinPqrBTv",
        "colab_type": "text"
      },
      "source": [
        "## We should have 10 different classes,one for each digit,but we end up having only a 1D array."
      ]
    },
    {
      "cell_type": "code",
      "metadata": {
        "id": "yT7d3KigxPTf",
        "colab_type": "code",
        "colab": {}
      },
      "source": [
        "# Convert 1-dimensional class arrays to 10-dimensional class matrices\n",
        "Y_train = np_utils.to_categorical(y_train, 10)\n",
        "Y_test = np_utils.to_categorical(y_test, 10)"
      ],
      "execution_count": 0,
      "outputs": []
    },
    {
      "cell_type": "markdown",
      "metadata": {
        "id": "WzAU_MvKrFJC",
        "colab_type": "text"
      },
      "source": [
        "## And it's a problem. The y_train and y_test data are not split into 10 distinct class labels, but rather are represented as a single array with the class values. That is why the conversion of 1D class arrays to 10D class matrices."
      ]
    },
    {
      "cell_type": "code",
      "metadata": {
        "id": "I-c-9MSgxRz4",
        "colab_type": "code",
        "outputId": "c7642f98-b63d-4c39-9a97-d0a21b15fae0",
        "colab": {
          "base_uri": "https://localhost:8080/",
          "height": 191
        }
      },
      "source": [
        "Y_train[:10]"
      ],
      "execution_count": 9,
      "outputs": [
        {
          "output_type": "execute_result",
          "data": {
            "text/plain": [
              "array([[0., 0., 0., 0., 0., 1., 0., 0., 0., 0.],\n",
              "       [1., 0., 0., 0., 0., 0., 0., 0., 0., 0.],\n",
              "       [0., 0., 0., 0., 1., 0., 0., 0., 0., 0.],\n",
              "       [0., 1., 0., 0., 0., 0., 0., 0., 0., 0.],\n",
              "       [0., 0., 0., 0., 0., 0., 0., 0., 0., 1.],\n",
              "       [0., 0., 1., 0., 0., 0., 0., 0., 0., 0.],\n",
              "       [0., 1., 0., 0., 0., 0., 0., 0., 0., 0.],\n",
              "       [0., 0., 0., 1., 0., 0., 0., 0., 0., 0.],\n",
              "       [0., 1., 0., 0., 0., 0., 0., 0., 0., 0.],\n",
              "       [0., 0., 0., 0., 1., 0., 0., 0., 0., 0.]], dtype=float32)"
            ]
          },
          "metadata": {
            "tags": []
          },
          "execution_count": 9
        }
      ]
    },
    {
      "cell_type": "markdown",
      "metadata": {
        "id": "LA6MIDTTrIwn",
        "colab_type": "text"
      },
      "source": [
        "## We are displaying what we just converted.(After the conversion)"
      ]
    },
    {
      "cell_type": "code",
      "metadata": {
        "id": "I4OmA8mUxUsJ",
        "colab_type": "code",
        "outputId": "15b306c7-39fb-4853-913e-3e507433fb87",
        "colab": {
          "base_uri": "https://localhost:8080/",
          "height": 1148
        }
      },
      "source": [
        "from keras.layers import Activation, MaxPooling2D, Dropout\n",
        "from keras.layers.normalization import BatchNormalization\n",
        "from keras.layers import Dense\n",
        "\n",
        "model = Sequential() \n",
        "\n",
        "model.add(Convolution2D(16, 3, 3, activation='relu', input_shape=(28,28,1)))\n",
        "model.add(BatchNormalization())\n",
        "model.add(Convolution2D(16, 3, 3, activation='relu'))\n",
        "model.add(BatchNormalization())\n",
        "model.add(Convolution2D(16, 3, 3, activation='relu'))\n",
        "model.add(BatchNormalization())\n",
        "model.add(Dropout(0.7))\n",
        "\n",
        "model.add(MaxPooling2D(pool_size=(2, 2)))\n",
        "\n",
        "model.add(Convolution2D(16, 3, 3, activation='relu'))\n",
        "model.add(BatchNormalization())\n",
        "model.add(Convolution2D(16, 3, 3, activation='relu'))\n",
        "model.add(BatchNormalization())\n",
        "model.add(Convolution2D(16, 3, 3, activation='relu'))\n",
        "model.add(BatchNormalization())\n",
        "model.add(Convolution2D(32, 3, 3, activation='relu'))\n",
        "model.add(BatchNormalization())\n",
        "\n",
        "model.add(Convolution2D(10, 3, 3))\n",
        "model.add(BatchNormalization())\n",
        "\n",
        "\n",
        "model.add(Flatten())\n",
        "model.add(Activation('softmax'))\n",
        "\n",
        "\n",
        "\n",
        "model.summary()"
      ],
      "execution_count": 10,
      "outputs": [
        {
          "output_type": "stream",
          "text": [
            "WARNING:tensorflow:From /usr/local/lib/python3.6/dist-packages/tensorflow/python/framework/op_def_library.py:263: colocate_with (from tensorflow.python.framework.ops) is deprecated and will be removed in a future version.\n",
            "Instructions for updating:\n",
            "Colocations handled automatically by placer.\n"
          ],
          "name": "stdout"
        },
        {
          "output_type": "stream",
          "text": [
            "/usr/local/lib/python3.6/dist-packages/ipykernel_launcher.py:7: UserWarning: Update your `Conv2D` call to the Keras 2 API: `Conv2D(16, (3, 3), activation=\"relu\", input_shape=(28, 28, 1...)`\n",
            "  import sys\n"
          ],
          "name": "stderr"
        },
        {
          "output_type": "stream",
          "text": [
            "WARNING:tensorflow:From /usr/local/lib/python3.6/dist-packages/keras/backend/tensorflow_backend.py:3445: calling dropout (from tensorflow.python.ops.nn_ops) with keep_prob is deprecated and will be removed in a future version.\n",
            "Instructions for updating:\n",
            "Please use `rate` instead of `keep_prob`. Rate should be set to `rate = 1 - keep_prob`.\n"
          ],
          "name": "stdout"
        },
        {
          "output_type": "stream",
          "text": [
            "/usr/local/lib/python3.6/dist-packages/ipykernel_launcher.py:9: UserWarning: Update your `Conv2D` call to the Keras 2 API: `Conv2D(16, (3, 3), activation=\"relu\")`\n",
            "  if __name__ == '__main__':\n",
            "/usr/local/lib/python3.6/dist-packages/ipykernel_launcher.py:11: UserWarning: Update your `Conv2D` call to the Keras 2 API: `Conv2D(16, (3, 3), activation=\"relu\")`\n",
            "  # This is added back by InteractiveShellApp.init_path()\n",
            "/usr/local/lib/python3.6/dist-packages/ipykernel_launcher.py:17: UserWarning: Update your `Conv2D` call to the Keras 2 API: `Conv2D(16, (3, 3), activation=\"relu\")`\n",
            "/usr/local/lib/python3.6/dist-packages/ipykernel_launcher.py:19: UserWarning: Update your `Conv2D` call to the Keras 2 API: `Conv2D(16, (3, 3), activation=\"relu\")`\n",
            "/usr/local/lib/python3.6/dist-packages/ipykernel_launcher.py:21: UserWarning: Update your `Conv2D` call to the Keras 2 API: `Conv2D(16, (3, 3), activation=\"relu\")`\n",
            "/usr/local/lib/python3.6/dist-packages/ipykernel_launcher.py:23: UserWarning: Update your `Conv2D` call to the Keras 2 API: `Conv2D(32, (3, 3), activation=\"relu\")`\n",
            "/usr/local/lib/python3.6/dist-packages/ipykernel_launcher.py:26: UserWarning: Update your `Conv2D` call to the Keras 2 API: `Conv2D(10, (3, 3))`\n"
          ],
          "name": "stderr"
        },
        {
          "output_type": "stream",
          "text": [
            "_________________________________________________________________\n",
            "Layer (type)                 Output Shape              Param #   \n",
            "=================================================================\n",
            "conv2d_1 (Conv2D)            (None, 26, 26, 16)        160       \n",
            "_________________________________________________________________\n",
            "batch_normalization_1 (Batch (None, 26, 26, 16)        64        \n",
            "_________________________________________________________________\n",
            "conv2d_2 (Conv2D)            (None, 24, 24, 16)        2320      \n",
            "_________________________________________________________________\n",
            "batch_normalization_2 (Batch (None, 24, 24, 16)        64        \n",
            "_________________________________________________________________\n",
            "conv2d_3 (Conv2D)            (None, 22, 22, 16)        2320      \n",
            "_________________________________________________________________\n",
            "batch_normalization_3 (Batch (None, 22, 22, 16)        64        \n",
            "_________________________________________________________________\n",
            "dropout_1 (Dropout)          (None, 22, 22, 16)        0         \n",
            "_________________________________________________________________\n",
            "max_pooling2d_1 (MaxPooling2 (None, 11, 11, 16)        0         \n",
            "_________________________________________________________________\n",
            "conv2d_4 (Conv2D)            (None, 9, 9, 16)          2320      \n",
            "_________________________________________________________________\n",
            "batch_normalization_4 (Batch (None, 9, 9, 16)          64        \n",
            "_________________________________________________________________\n",
            "conv2d_5 (Conv2D)            (None, 7, 7, 16)          2320      \n",
            "_________________________________________________________________\n",
            "batch_normalization_5 (Batch (None, 7, 7, 16)          64        \n",
            "_________________________________________________________________\n",
            "conv2d_6 (Conv2D)            (None, 5, 5, 16)          2320      \n",
            "_________________________________________________________________\n",
            "batch_normalization_6 (Batch (None, 5, 5, 16)          64        \n",
            "_________________________________________________________________\n",
            "conv2d_7 (Conv2D)            (None, 3, 3, 32)          4640      \n",
            "_________________________________________________________________\n",
            "batch_normalization_7 (Batch (None, 3, 3, 32)          128       \n",
            "_________________________________________________________________\n",
            "conv2d_8 (Conv2D)            (None, 1, 1, 10)          2890      \n",
            "_________________________________________________________________\n",
            "batch_normalization_8 (Batch (None, 1, 1, 10)          40        \n",
            "_________________________________________________________________\n",
            "flatten_1 (Flatten)          (None, 10)                0         \n",
            "_________________________________________________________________\n",
            "activation_1 (Activation)    (None, 10)                0         \n",
            "=================================================================\n",
            "Total params: 19,842\n",
            "Trainable params: 19,566\n",
            "Non-trainable params: 276\n",
            "_________________________________________________________________\n"
          ],
          "name": "stdout"
        }
      ]
    },
    {
      "cell_type": "markdown",
      "metadata": {
        "id": "1REcnJVZkibi",
        "colab_type": "text"
      },
      "source": [
        ""
      ]
    },
    {
      "cell_type": "code",
      "metadata": {
        "id": "Tr1C9_szy6Cq",
        "colab_type": "code",
        "colab": {}
      },
      "source": [
        "model.compile(loss='categorical_crossentropy',\n",
        "             optimizer='adam',\n",
        "             metrics=['accuracy'])"
      ],
      "execution_count": 0,
      "outputs": []
    },
    {
      "cell_type": "code",
      "metadata": {
        "id": "iwMrrIEmy97B",
        "colab_type": "code",
        "outputId": "7d993657-8365-4cd1-be11-3ab1ee966ecd",
        "colab": {
          "base_uri": "https://localhost:8080/",
          "height": 1285
        }
      },
      "source": [
        "model.fit(X_train, Y_train, batch_size=4096, nb_epoch=35, verbose=1)"
      ],
      "execution_count": 72,
      "outputs": [
        {
          "output_type": "stream",
          "text": [
            "/usr/local/lib/python3.6/dist-packages/ipykernel_launcher.py:1: UserWarning: The `nb_epoch` argument in `fit` has been renamed `epochs`.\n",
            "  \"\"\"Entry point for launching an IPython kernel.\n"
          ],
          "name": "stderr"
        },
        {
          "output_type": "stream",
          "text": [
            "Epoch 1/35\n",
            "60000/60000 [==============================] - 2s 41us/step - loss: 1.1153e-04 - acc: 1.0000\n",
            "Epoch 2/35\n",
            "60000/60000 [==============================] - 2s 40us/step - loss: 1.1210e-04 - acc: 1.0000\n",
            "Epoch 3/35\n",
            "60000/60000 [==============================] - 2s 40us/step - loss: 8.0313e-05 - acc: 1.0000\n",
            "Epoch 4/35\n",
            "60000/60000 [==============================] - 2s 40us/step - loss: 1.4250e-04 - acc: 1.0000\n",
            "Epoch 5/35\n",
            "60000/60000 [==============================] - 2s 40us/step - loss: 1.0200e-04 - acc: 1.0000\n",
            "Epoch 6/35\n",
            "60000/60000 [==============================] - 2s 40us/step - loss: 1.0307e-04 - acc: 1.0000\n",
            "Epoch 7/35\n",
            "60000/60000 [==============================] - 2s 40us/step - loss: 1.0297e-04 - acc: 1.0000\n",
            "Epoch 8/35\n",
            "60000/60000 [==============================] - 2s 40us/step - loss: 1.0624e-04 - acc: 1.0000\n",
            "Epoch 9/35\n",
            "60000/60000 [==============================] - 2s 40us/step - loss: 9.9287e-05 - acc: 1.0000\n",
            "Epoch 10/35\n",
            "60000/60000 [==============================] - 2s 40us/step - loss: 1.4167e-04 - acc: 1.0000\n",
            "Epoch 11/35\n",
            "60000/60000 [==============================] - 2s 40us/step - loss: 1.3178e-04 - acc: 1.0000\n",
            "Epoch 12/35\n",
            "60000/60000 [==============================] - 2s 41us/step - loss: 6.6198e-05 - acc: 1.0000\n",
            "Epoch 13/35\n",
            "60000/60000 [==============================] - 2s 40us/step - loss: 1.5863e-04 - acc: 1.0000\n",
            "Epoch 14/35\n",
            "60000/60000 [==============================] - 2s 41us/step - loss: 1.5059e-04 - acc: 1.0000\n",
            "Epoch 15/35\n",
            "60000/60000 [==============================] - 2s 41us/step - loss: 1.0948e-04 - acc: 1.0000\n",
            "Epoch 16/35\n",
            "60000/60000 [==============================] - 2s 41us/step - loss: 8.7064e-05 - acc: 1.0000\n",
            "Epoch 17/35\n",
            "60000/60000 [==============================] - 2s 41us/step - loss: 7.2523e-05 - acc: 1.0000\n",
            "Epoch 18/35\n",
            "60000/60000 [==============================] - 2s 41us/step - loss: 7.8152e-05 - acc: 1.0000\n",
            "Epoch 19/35\n",
            "60000/60000 [==============================] - 2s 41us/step - loss: 6.1435e-05 - acc: 1.0000\n",
            "Epoch 20/35\n",
            "60000/60000 [==============================] - 2s 40us/step - loss: 1.0729e-04 - acc: 1.0000\n",
            "Epoch 21/35\n",
            "60000/60000 [==============================] - 2s 41us/step - loss: 1.3637e-04 - acc: 1.0000\n",
            "Epoch 22/35\n",
            "60000/60000 [==============================] - 2s 41us/step - loss: 1.6296e-04 - acc: 1.0000\n",
            "Epoch 23/35\n",
            "60000/60000 [==============================] - 2s 40us/step - loss: 1.1883e-04 - acc: 1.0000\n",
            "Epoch 24/35\n",
            "60000/60000 [==============================] - 2s 40us/step - loss: 8.4712e-05 - acc: 1.0000\n",
            "Epoch 25/35\n",
            "60000/60000 [==============================] - 2s 40us/step - loss: 9.3199e-05 - acc: 1.0000\n",
            "Epoch 26/35\n",
            "60000/60000 [==============================] - 2s 40us/step - loss: 6.4833e-05 - acc: 1.0000\n",
            "Epoch 27/35\n",
            "60000/60000 [==============================] - 2s 40us/step - loss: 9.0463e-05 - acc: 1.0000\n",
            "Epoch 28/35\n",
            "60000/60000 [==============================] - 2s 40us/step - loss: 6.6491e-05 - acc: 1.0000\n",
            "Epoch 29/35\n",
            "60000/60000 [==============================] - 2s 40us/step - loss: 6.7916e-05 - acc: 1.0000\n",
            "Epoch 30/35\n",
            "60000/60000 [==============================] - 2s 40us/step - loss: 1.2059e-04 - acc: 1.0000\n",
            "Epoch 31/35\n",
            "60000/60000 [==============================] - 2s 40us/step - loss: 1.3026e-04 - acc: 1.0000\n",
            "Epoch 32/35\n",
            "60000/60000 [==============================] - 2s 40us/step - loss: 1.1954e-04 - acc: 1.0000\n",
            "Epoch 33/35\n",
            "60000/60000 [==============================] - 2s 40us/step - loss: 8.9178e-05 - acc: 1.0000\n",
            "Epoch 34/35\n",
            "60000/60000 [==============================] - 2s 40us/step - loss: 1.1343e-04 - acc: 1.0000\n",
            "Epoch 35/35\n",
            "60000/60000 [==============================] - 2s 40us/step - loss: 7.8293e-05 - acc: 1.0000\n"
          ],
          "name": "stdout"
        },
        {
          "output_type": "execute_result",
          "data": {
            "text/plain": [
              "<keras.callbacks.History at 0x7f6e608cc320>"
            ]
          },
          "metadata": {
            "tags": []
          },
          "execution_count": 72
        }
      ]
    },
    {
      "cell_type": "code",
      "metadata": {
        "id": "QzuFaxWc_y8-",
        "colab_type": "code",
        "colab": {}
      },
      "source": [
        "score = model.evaluate(X_test, Y_test, verbose=0)"
      ],
      "execution_count": 0,
      "outputs": []
    },
    {
      "cell_type": "code",
      "metadata": {
        "id": "5rviLKhN_2DN",
        "colab_type": "code",
        "outputId": "a971c77b-9933-4a48-95eb-3484c2ccf34c",
        "colab": {
          "base_uri": "https://localhost:8080/",
          "height": 34
        }
      },
      "source": [
        "print(score)"
      ],
      "execution_count": 74,
      "outputs": [
        {
          "output_type": "stream",
          "text": [
            "[0.04016836316106064, 0.992]\n"
          ],
          "name": "stdout"
        }
      ]
    },
    {
      "cell_type": "code",
      "metadata": {
        "id": "1nKsYSsR_9SB",
        "colab_type": "code",
        "colab": {}
      },
      "source": [
        "y_pred = model.predict(X_test)"
      ],
      "execution_count": 0,
      "outputs": []
    },
    {
      "cell_type": "code",
      "metadata": {
        "id": "xPAcsTKq_-wd",
        "colab_type": "code",
        "outputId": "8425a734-9a5e-46a4-dc5d-67f1d7800540",
        "colab": {
          "base_uri": "https://localhost:8080/",
          "height": 503
        }
      },
      "source": [
        "print(y_pred[:9])\n",
        "print(y_test[:9])"
      ],
      "execution_count": 76,
      "outputs": [
        {
          "output_type": "stream",
          "text": [
            "[[9.51517709e-09 8.62099512e-08 5.65046065e-10 1.39730867e-08\n",
            "  5.81838151e-07 3.05874370e-09 1.43196530e-08 9.99999285e-01\n",
            "  5.84760507e-08 8.96108673e-11]\n",
            " [1.04360032e-12 1.43251322e-11 1.00000000e+00 3.30693724e-14\n",
            "  4.26163790e-15 7.14783376e-13 5.66147085e-09 6.25548658e-13\n",
            "  2.70728036e-12 1.14438441e-11]\n",
            " [3.41725606e-11 9.99999881e-01 7.71905248e-11 6.46583942e-08\n",
            "  3.64918790e-10 9.02208142e-10 9.01717923e-10 1.04403233e-08\n",
            "  3.87836829e-09 7.32656658e-10]\n",
            " [1.00000000e+00 3.90048105e-10 1.99342501e-10 7.63001928e-09\n",
            "  1.68773370e-10 5.19000565e-10 1.20588650e-09 2.04050318e-10\n",
            "  1.34236598e-11 3.46023182e-10]\n",
            " [1.12393082e-08 1.12064935e-08 6.31326088e-07 3.81939724e-09\n",
            "  9.99997854e-01 8.74497186e-09 1.01667467e-06 4.04981426e-09\n",
            "  6.70036204e-09 3.95159674e-07]\n",
            " [1.85146198e-09 1.00000000e+00 5.55190172e-10 1.36674816e-09\n",
            "  2.24602125e-11 6.91270929e-10 6.12982554e-10 6.97665037e-09\n",
            "  7.55936869e-10 1.81601501e-09]\n",
            " [2.09492298e-12 2.55321719e-09 2.62025290e-10 2.41607434e-13\n",
            "  1.00000000e+00 1.77699901e-12 2.02101735e-09 8.89390422e-14\n",
            "  5.04765717e-13 1.14532277e-12]\n",
            " [1.50466304e-12 4.18539687e-13 1.12353557e-10 2.01084621e-10\n",
            "  7.33688110e-12 3.69702408e-10 2.77661249e-13 2.78054121e-12\n",
            "  1.67082771e-11 1.00000000e+00]\n",
            " [3.01742555e-11 1.74668838e-11 5.15635701e-10 2.99598193e-12\n",
            "  7.45593297e-07 9.99980450e-01 1.83607590e-05 1.02089842e-07\n",
            "  1.02463649e-10 3.82531653e-07]]\n",
            "[7 2 1 0 4 1 4 9 5]\n"
          ],
          "name": "stdout"
        }
      ]
    },
    {
      "cell_type": "code",
      "metadata": {
        "id": "WZJR78n2AAuq",
        "colab_type": "code",
        "colab": {}
      },
      "source": [
        "layer_dict = dict([(layer.name, layer) for layer in model.layers])"
      ],
      "execution_count": 0,
      "outputs": []
    },
    {
      "cell_type": "code",
      "metadata": {
        "id": "3BJEefN1u_4y",
        "colab_type": "code",
        "colab": {
          "base_uri": "https://localhost:8080/",
          "height": 324
        },
        "outputId": "37928f33-4ba1-4a08-f510-dd412b25a410"
      },
      "source": [
        "import numpy as np\n",
        "from matplotlib import pyplot as plt\n",
        "from keras import backend as K\n",
        "%matplotlib inline\n",
        "# util function to convert a tensor into a valid image\n",
        "def deprocess_image(x):\n",
        "    # normalize tensor: center on 0., ensure std is 0.1\n",
        "    x -= x.mean()\n",
        "    x /= (x.std() + 1e-5)\n",
        "    x *= 0.1\n",
        "\n",
        "    # clip to [0, 1]\n",
        "    x += 0.5\n",
        "    x = np.clip(x, 0, 1)\n",
        "\n",
        "    # convert to RGB array\n",
        "    x *= 255\n",
        "    #x = x.transpose((1, 2, 0))\n",
        "    x = np.clip(x, 0, 255).astype('uint8')\n",
        "    return x\n",
        "\n",
        "def vis_img_in_filter(img = np.array(X_train[2]).reshape((1, 28, 28, 1)).astype(np.float64), \n",
        "                      layer_name = 'conv2d_14'):\n",
        "    layer_output = layer_dict[layer_name].output\n",
        "    img_ascs = list()\n",
        "    for filter_index in range(layer_output.shape[3]):\n",
        "        # build a loss function that maximizes the activation\n",
        "        # of the nth filter of the layer considered\n",
        "        loss = K.mean(layer_output[:, :, :, filter_index])\n",
        "\n",
        "        # compute the gradient of the input picture wrt this loss\n",
        "        grads = K.gradients(loss, model.input)[0]\n",
        "\n",
        "        # normalization trick: we normalize the gradient\n",
        "        grads /= (K.sqrt(K.mean(K.square(grads))) + 1e-5)\n",
        "\n",
        "        # this function returns the loss and grads given the input picture\n",
        "        iterate = K.function([model.input], [loss, grads])\n",
        "\n",
        "        # step size for gradient ascent\n",
        "        step = 5.\n",
        "\n",
        "        img_asc = np.array(img)\n",
        "        # run gradient ascent for 20 steps\n",
        "        for i in range(20):\n",
        "            loss_value, grads_value = iterate([img_asc])\n",
        "            img_asc += grads_value * step\n",
        "\n",
        "        img_asc = img_asc[0]\n",
        "        img_ascs.append(deprocess_image(img_asc).reshape((28, 28)))\n",
        "        \n",
        "    if layer_output.shape[3] >= 35:\n",
        "        plot_x, plot_y = 6, 6\n",
        "    elif layer_output.shape[3] >= 23:\n",
        "        plot_x, plot_y = 4, 6\n",
        "    elif layer_output.shape[3] >= 11:\n",
        "        plot_x, plot_y = 2, 6\n",
        "    else:\n",
        "        plot_x, plot_y = 1, 2\n",
        "    fig, ax = plt.subplots(plot_x, plot_y, figsize = (12, 12))\n",
        "    ax[0, 0].imshow(img.reshape((28, 28)), cmap = 'gray')\n",
        "    ax[0, 0].set_title('Input image')\n",
        "    fig.suptitle('Input image and %s filters' % (layer_name,))\n",
        "    fig.tight_layout(pad = 0.3, rect = [0, 0, 0.9, 0.9])\n",
        "    for (x, y) in [(i, j) for i in range(plot_x) for j in range(plot_y)]:\n",
        "        if x == 0 and y == 0:\n",
        "            continue\n",
        "        ax[x, y].imshow(img_ascs[x * plot_y + y - 1], cmap = 'gray')\n",
        "        ax[x, y].set_title('filter %d' % (x * plot_y + y - 1))\n",
        "\n",
        "vis_img_in_filter()"
      ],
      "execution_count": 78,
      "outputs": [
        {
          "output_type": "error",
          "ename": "KeyError",
          "evalue": "ignored",
          "traceback": [
            "\u001b[0;31m---------------------------------------------------------------------------\u001b[0m",
            "\u001b[0;31mKeyError\u001b[0m                                  Traceback (most recent call last)",
            "\u001b[0;32m<ipython-input-78-19229f66b51a>\u001b[0m in \u001b[0;36m<module>\u001b[0;34m()\u001b[0m\n\u001b[1;32m     69\u001b[0m         \u001b[0max\u001b[0m\u001b[0;34m[\u001b[0m\u001b[0mx\u001b[0m\u001b[0;34m,\u001b[0m \u001b[0my\u001b[0m\u001b[0;34m]\u001b[0m\u001b[0;34m.\u001b[0m\u001b[0mset_title\u001b[0m\u001b[0;34m(\u001b[0m\u001b[0;34m'filter %d'\u001b[0m \u001b[0;34m%\u001b[0m \u001b[0;34m(\u001b[0m\u001b[0mx\u001b[0m \u001b[0;34m*\u001b[0m \u001b[0mplot_y\u001b[0m \u001b[0;34m+\u001b[0m \u001b[0my\u001b[0m \u001b[0;34m-\u001b[0m \u001b[0;36m1\u001b[0m\u001b[0;34m)\u001b[0m\u001b[0;34m)\u001b[0m\u001b[0;34m\u001b[0m\u001b[0;34m\u001b[0m\u001b[0m\n\u001b[1;32m     70\u001b[0m \u001b[0;34m\u001b[0m\u001b[0m\n\u001b[0;32m---> 71\u001b[0;31m \u001b[0mvis_img_in_filter\u001b[0m\u001b[0;34m(\u001b[0m\u001b[0;34m)\u001b[0m\u001b[0;34m\u001b[0m\u001b[0;34m\u001b[0m\u001b[0m\n\u001b[0m",
            "\u001b[0;32m<ipython-input-78-19229f66b51a>\u001b[0m in \u001b[0;36mvis_img_in_filter\u001b[0;34m(img, layer_name)\u001b[0m\n\u001b[1;32m     22\u001b[0m def vis_img_in_filter(img = np.array(X_train[2]).reshape((1, 28, 28, 1)).astype(np.float64), \n\u001b[1;32m     23\u001b[0m                       layer_name = 'conv2d_14'):\n\u001b[0;32m---> 24\u001b[0;31m     \u001b[0mlayer_output\u001b[0m \u001b[0;34m=\u001b[0m \u001b[0mlayer_dict\u001b[0m\u001b[0;34m[\u001b[0m\u001b[0mlayer_name\u001b[0m\u001b[0;34m]\u001b[0m\u001b[0;34m.\u001b[0m\u001b[0moutput\u001b[0m\u001b[0;34m\u001b[0m\u001b[0;34m\u001b[0m\u001b[0m\n\u001b[0m\u001b[1;32m     25\u001b[0m     \u001b[0mimg_ascs\u001b[0m \u001b[0;34m=\u001b[0m \u001b[0mlist\u001b[0m\u001b[0;34m(\u001b[0m\u001b[0;34m)\u001b[0m\u001b[0;34m\u001b[0m\u001b[0;34m\u001b[0m\u001b[0m\n\u001b[1;32m     26\u001b[0m     \u001b[0;32mfor\u001b[0m \u001b[0mfilter_index\u001b[0m \u001b[0;32min\u001b[0m \u001b[0mrange\u001b[0m\u001b[0;34m(\u001b[0m\u001b[0mlayer_output\u001b[0m\u001b[0;34m.\u001b[0m\u001b[0mshape\u001b[0m\u001b[0;34m[\u001b[0m\u001b[0;36m3\u001b[0m\u001b[0;34m]\u001b[0m\u001b[0;34m)\u001b[0m\u001b[0;34m:\u001b[0m\u001b[0;34m\u001b[0m\u001b[0;34m\u001b[0m\u001b[0m\n",
            "\u001b[0;31mKeyError\u001b[0m: 'conv2d_14'"
          ]
        }
      ]
    }
  ]
}